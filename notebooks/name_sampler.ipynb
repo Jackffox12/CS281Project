{
 "cells": [
  {
   "cell_type": "code",
   "execution_count": 16,
   "id": "314b649c-4c08-49ff-a5d3-0b4b6fafd75b",
   "metadata": {},
   "outputs": [
    {
     "name": "stdout",
     "output_type": "stream",
     "text": [
      "Augmented resumes saved to: /Users/alexchon/CS281Project/data/processed/expanded_resumes.csv\n"
     ]
    }
   ],
   "source": [
    "import pandas as pd\n",
    "from pathlib import Path\n",
    "\n",
    "\n",
    "def find_repo_root(start_path: Path) -> Path:\n",
    "    \"\"\"\n",
    "    Walks up from start_path until it finds a folder containing “.git”.\n",
    "    If none is found, raises an error.\n",
    "    \"\"\"\n",
    "    for p in [start_path] + list(start_path.parents):\n",
    "        if (p / \".git\").is_dir():\n",
    "            return p\n",
    "    raise FileNotFoundError(\"Could not locate a parent directory with a .git folder.\")\n",
    "\n",
    "cwd = Path().resolve()\n",
    "project_root = find_repo_root(cwd)\n",
    "\n",
    "processed_dir = project_root / \"data\" / \"processed\"\n",
    "output_file  = processed_dir / \"expanded_resumes.csv\"\n",
    "\n",
    "processed_dir.mkdir(parents=True, exist_ok=True)\n",
    "\n",
    "# Define groups of names categorized by race and gender\n",
    "white_male_names   = [\"John Smith\",   \"Michael Johnson\", \"James Brown\"]\n",
    "white_female_names = [\"Emily Smith\",  \"Olivia Johnson\",  \"Ava Brown\"]\n",
    "black_male_names   = [\"Darnell Smith\",\"Malik Johnson\",   \"Tyrone Brown\"]\n",
    "black_female_names = [\"Latisha Smith\",\"Aaliyah Johnson\", \"Imani Brown\"]\n",
    "\n",
    "all_names = (\n",
    "    white_male_names\n",
    "    + white_female_names\n",
    "    + black_male_names\n",
    "    + black_female_names\n",
    ")\n",
    "\n",
    "name_to_group = {\n",
    "    **{name: \"White-Male\"   for name in white_male_names},\n",
    "    **{name: \"White-Female\" for name in white_female_names},\n",
    "    **{name: \"Black-Male\"   for name in black_male_names},\n",
    "    **{name: \"Black-Female\" for name in black_female_names},\n",
    "}\n",
    "\n",
    "# Find every “resumes_*.csv” file inside data/processed\n",
    "resume_file_paths = list((processed_dir).glob(\"resumes_*.csv\"))\n",
    "\n",
    "if not resume_file_paths:\n",
    "    raise FileNotFoundError(f\"No files matching “resumes_*.csv” found in {processed_dir}\")\n",
    "\n",
    "augmented_records = []\n",
    "\n",
    "for resume_file in resume_file_paths:\n",
    "    # e.g. if resume_file.name == \"resumes_15-0000.csv\", then:\n",
    "    soc_family_code = resume_file.stem.replace(\"resumes_\", \"\")\n",
    "    df_base = pd.read_csv(resume_file)\n",
    "    \n",
    "    for _, row in df_base.iterrows():\n",
    "        original_id = row[\"ID\"]\n",
    "        resume_text = row[\"text\"]\n",
    "        \n",
    "        for name in all_names:\n",
    "            augmented_records.append({\n",
    "                \"orig_resume_id\":   original_id,\n",
    "                \"soc_family\":       soc_family_code,\n",
    "                \"name_variant\":     name,\n",
    "                \"race_gender_group\":name_to_group[name],\n",
    "                \"augmented_resume_text\": f\"{name}\\n{resume_text}\"\n",
    "            })\n",
    "\n",
    "# Shuffle and save\n",
    "augmented_df = pd.DataFrame(augmented_records)\n",
    "augmented_df = augmented_df.sample(frac=1, random_state=42).reset_index(drop=True)\n",
    "augmented_df.to_csv(output_file, index=False)\n",
    "\n",
    "print(f\"Augmented resumes saved to: {output_file}\")\n"
   ]
  },
  {
   "cell_type": "code",
   "execution_count": null,
   "id": "90c64457-63cf-4d1a-9688-4bd079894d95",
   "metadata": {},
   "outputs": [],
   "source": []
  }
 ],
 "metadata": {
  "kernelspec": {
   "display_name": "Python 3 (ipykernel)",
   "language": "python",
   "name": "python3"
  },
  "language_info": {
   "codemirror_mode": {
    "name": "ipython",
    "version": 3
   },
   "file_extension": ".py",
   "mimetype": "text/x-python",
   "name": "python",
   "nbconvert_exporter": "python",
   "pygments_lexer": "ipython3",
   "version": "3.12.7"
  }
 },
 "nbformat": 4,
 "nbformat_minor": 5
}
